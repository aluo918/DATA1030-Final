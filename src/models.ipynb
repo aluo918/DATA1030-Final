{
 "cells": [
  {
   "cell_type": "markdown",
   "id": "fb8968bb-00b3-41c2-879c-108dce0a117a",
   "metadata": {},
   "source": [
    "## Dependencies"
   ]
  },
  {
   "cell_type": "code",
   "execution_count": 1,
   "id": "61e6628e-caef-4c90-939c-bcfe2f9292ca",
   "metadata": {},
   "outputs": [],
   "source": [
    "from sklearn.compose import ColumnTransformer\n",
    "from sklearn.ensemble import RandomForestClassifier\n",
    "from sklearn.experimental import enable_iterative_imputer\n",
    "from sklearn.impute import IterativeImputer\n",
    "from sklearn.linear_model import LinearRegression\n",
    "from sklearn.linear_model import LogisticRegression\n",
    "from sklearn.metrics import accuracy_score\n",
    "from sklearn.metrics import f1_score\n",
    "from sklearn.metrics import make_scorer\n",
    "from sklearn.model_selection import GridSearchCV\n",
    "from sklearn.model_selection import GroupKFold\n",
    "from sklearn.model_selection import GroupShuffleSplit\n",
    "from sklearn.model_selection import KFold\n",
    "from sklearn.model_selection import train_test_split\n",
    "from sklearn.neighbors import KNeighborsClassifier\n",
    "from sklearn.pipeline import make_pipeline\n",
    "from sklearn.pipeline import Pipeline\n",
    "from sklearn.preprocessing import OneHotEncoder\n",
    "from sklearn.preprocessing import StandardScaler\n",
    "from sklearn.svm import SVC\n",
    "from xgboost import XGBClassifier\n",
    "\n",
    "import collections\n",
    "import matplotlib.pyplot as plt\n",
    "import numpy as np\n",
    "import pandas as pd\n",
    "import pickle"
   ]
  },
  {
   "cell_type": "code",
   "execution_count": 2,
   "id": "3a51dfea-cf46-47cb-890c-fbb5174da444",
   "metadata": {},
   "outputs": [],
   "source": [
    "plt.rcParams.update({'font.size': 10, 'figure.dpi': 300})"
   ]
  },
  {
   "cell_type": "markdown",
   "id": "d7c132c2-17a6-44f8-bc12-c4c9e13bfb18",
   "metadata": {},
   "source": [
    "## Dataset"
   ]
  },
  {
   "cell_type": "code",
   "execution_count": 3,
   "id": "943e3a62-a460-48ca-b8a2-51bf3be5fc1d",
   "metadata": {},
   "outputs": [
    {
     "data": {
      "text/html": [
       "<div>\n",
       "<style scoped>\n",
       "    .dataframe tbody tr th:only-of-type {\n",
       "        vertical-align: middle;\n",
       "    }\n",
       "\n",
       "    .dataframe tbody tr th {\n",
       "        vertical-align: top;\n",
       "    }\n",
       "\n",
       "    .dataframe thead th {\n",
       "        text-align: right;\n",
       "    }\n",
       "</style>\n",
       "<table border=\"1\" class=\"dataframe\">\n",
       "  <thead>\n",
       "    <tr style=\"text-align: right;\">\n",
       "      <th></th>\n",
       "      <th>age</th>\n",
       "      <th>sex</th>\n",
       "      <th>cp</th>\n",
       "      <th>trestbps</th>\n",
       "      <th>chol</th>\n",
       "      <th>fbs</th>\n",
       "      <th>restecg</th>\n",
       "      <th>thalach</th>\n",
       "      <th>exang</th>\n",
       "      <th>oldpeak</th>\n",
       "      <th>slope</th>\n",
       "      <th>ca</th>\n",
       "      <th>thal</th>\n",
       "      <th>num</th>\n",
       "      <th>location</th>\n",
       "    </tr>\n",
       "  </thead>\n",
       "  <tbody>\n",
       "    <tr>\n",
       "      <th>0</th>\n",
       "      <td>63.0</td>\n",
       "      <td>Male</td>\n",
       "      <td>Typical Angina</td>\n",
       "      <td>145.0</td>\n",
       "      <td>233.0</td>\n",
       "      <td>Above 120</td>\n",
       "      <td>LV Hypertrophy</td>\n",
       "      <td>150.0</td>\n",
       "      <td>Exercise Angina Absent</td>\n",
       "      <td>2.3</td>\n",
       "      <td>Down</td>\n",
       "      <td>0 Vessel(s)</td>\n",
       "      <td>Fixed Defect</td>\n",
       "      <td>0</td>\n",
       "      <td>Cleveland</td>\n",
       "    </tr>\n",
       "    <tr>\n",
       "      <th>1</th>\n",
       "      <td>67.0</td>\n",
       "      <td>Male</td>\n",
       "      <td>Asymptomatic</td>\n",
       "      <td>160.0</td>\n",
       "      <td>286.0</td>\n",
       "      <td>Below 120</td>\n",
       "      <td>LV Hypertrophy</td>\n",
       "      <td>108.0</td>\n",
       "      <td>Exercise Angina Present</td>\n",
       "      <td>1.5</td>\n",
       "      <td>Flat</td>\n",
       "      <td>3 Vessel(s)</td>\n",
       "      <td>Normal</td>\n",
       "      <td>1</td>\n",
       "      <td>Cleveland</td>\n",
       "    </tr>\n",
       "    <tr>\n",
       "      <th>2</th>\n",
       "      <td>67.0</td>\n",
       "      <td>Male</td>\n",
       "      <td>Asymptomatic</td>\n",
       "      <td>120.0</td>\n",
       "      <td>229.0</td>\n",
       "      <td>Below 120</td>\n",
       "      <td>LV Hypertrophy</td>\n",
       "      <td>129.0</td>\n",
       "      <td>Exercise Angina Present</td>\n",
       "      <td>2.6</td>\n",
       "      <td>Flat</td>\n",
       "      <td>2 Vessel(s)</td>\n",
       "      <td>Reversable Defect</td>\n",
       "      <td>1</td>\n",
       "      <td>Cleveland</td>\n",
       "    </tr>\n",
       "    <tr>\n",
       "      <th>3</th>\n",
       "      <td>37.0</td>\n",
       "      <td>Male</td>\n",
       "      <td>Nonanginal Pain</td>\n",
       "      <td>130.0</td>\n",
       "      <td>250.0</td>\n",
       "      <td>Below 120</td>\n",
       "      <td>Normal</td>\n",
       "      <td>187.0</td>\n",
       "      <td>Exercise Angina Absent</td>\n",
       "      <td>3.5</td>\n",
       "      <td>Down</td>\n",
       "      <td>0 Vessel(s)</td>\n",
       "      <td>Normal</td>\n",
       "      <td>0</td>\n",
       "      <td>Cleveland</td>\n",
       "    </tr>\n",
       "    <tr>\n",
       "      <th>4</th>\n",
       "      <td>41.0</td>\n",
       "      <td>Female</td>\n",
       "      <td>Atypical Angina</td>\n",
       "      <td>130.0</td>\n",
       "      <td>204.0</td>\n",
       "      <td>Below 120</td>\n",
       "      <td>LV Hypertrophy</td>\n",
       "      <td>172.0</td>\n",
       "      <td>Exercise Angina Absent</td>\n",
       "      <td>1.4</td>\n",
       "      <td>Up</td>\n",
       "      <td>0 Vessel(s)</td>\n",
       "      <td>Normal</td>\n",
       "      <td>0</td>\n",
       "      <td>Cleveland</td>\n",
       "    </tr>\n",
       "    <tr>\n",
       "      <th>...</th>\n",
       "      <td>...</td>\n",
       "      <td>...</td>\n",
       "      <td>...</td>\n",
       "      <td>...</td>\n",
       "      <td>...</td>\n",
       "      <td>...</td>\n",
       "      <td>...</td>\n",
       "      <td>...</td>\n",
       "      <td>...</td>\n",
       "      <td>...</td>\n",
       "      <td>...</td>\n",
       "      <td>...</td>\n",
       "      <td>...</td>\n",
       "      <td>...</td>\n",
       "      <td>...</td>\n",
       "    </tr>\n",
       "    <tr>\n",
       "      <th>792</th>\n",
       "      <td>54.0</td>\n",
       "      <td>Female</td>\n",
       "      <td>Asymptomatic</td>\n",
       "      <td>127.0</td>\n",
       "      <td>333.0</td>\n",
       "      <td>Above 120</td>\n",
       "      <td>ST-T Abnormality</td>\n",
       "      <td>154.0</td>\n",
       "      <td>Exercise Angina Absent</td>\n",
       "      <td>0.0</td>\n",
       "      <td>NaN</td>\n",
       "      <td>NaN</td>\n",
       "      <td>NaN</td>\n",
       "      <td>1</td>\n",
       "      <td>Long Beach</td>\n",
       "    </tr>\n",
       "    <tr>\n",
       "      <th>793</th>\n",
       "      <td>62.0</td>\n",
       "      <td>Male</td>\n",
       "      <td>Typical Angina</td>\n",
       "      <td>NaN</td>\n",
       "      <td>139.0</td>\n",
       "      <td>Below 120</td>\n",
       "      <td>ST-T Abnormality</td>\n",
       "      <td>NaN</td>\n",
       "      <td>NaN</td>\n",
       "      <td>NaN</td>\n",
       "      <td>NaN</td>\n",
       "      <td>NaN</td>\n",
       "      <td>NaN</td>\n",
       "      <td>0</td>\n",
       "      <td>Long Beach</td>\n",
       "    </tr>\n",
       "    <tr>\n",
       "      <th>794</th>\n",
       "      <td>55.0</td>\n",
       "      <td>Male</td>\n",
       "      <td>Asymptomatic</td>\n",
       "      <td>122.0</td>\n",
       "      <td>223.0</td>\n",
       "      <td>Above 120</td>\n",
       "      <td>ST-T Abnormality</td>\n",
       "      <td>100.0</td>\n",
       "      <td>Exercise Angina Absent</td>\n",
       "      <td>0.0</td>\n",
       "      <td>NaN</td>\n",
       "      <td>NaN</td>\n",
       "      <td>Fixed Defect</td>\n",
       "      <td>1</td>\n",
       "      <td>Long Beach</td>\n",
       "    </tr>\n",
       "    <tr>\n",
       "      <th>795</th>\n",
       "      <td>58.0</td>\n",
       "      <td>Male</td>\n",
       "      <td>Asymptomatic</td>\n",
       "      <td>NaN</td>\n",
       "      <td>385.0</td>\n",
       "      <td>Above 120</td>\n",
       "      <td>LV Hypertrophy</td>\n",
       "      <td>NaN</td>\n",
       "      <td>NaN</td>\n",
       "      <td>NaN</td>\n",
       "      <td>NaN</td>\n",
       "      <td>NaN</td>\n",
       "      <td>NaN</td>\n",
       "      <td>0</td>\n",
       "      <td>Long Beach</td>\n",
       "    </tr>\n",
       "    <tr>\n",
       "      <th>796</th>\n",
       "      <td>62.0</td>\n",
       "      <td>Male</td>\n",
       "      <td>Atypical Angina</td>\n",
       "      <td>120.0</td>\n",
       "      <td>254.0</td>\n",
       "      <td>Below 120</td>\n",
       "      <td>LV Hypertrophy</td>\n",
       "      <td>93.0</td>\n",
       "      <td>Exercise Angina Present</td>\n",
       "      <td>0.0</td>\n",
       "      <td>NaN</td>\n",
       "      <td>NaN</td>\n",
       "      <td>NaN</td>\n",
       "      <td>1</td>\n",
       "      <td>Long Beach</td>\n",
       "    </tr>\n",
       "  </tbody>\n",
       "</table>\n",
       "<p>797 rows × 15 columns</p>\n",
       "</div>"
      ],
      "text/plain": [
       "      age     sex               cp  trestbps   chol        fbs  \\\n",
       "0    63.0    Male   Typical Angina     145.0  233.0  Above 120   \n",
       "1    67.0    Male     Asymptomatic     160.0  286.0  Below 120   \n",
       "2    67.0    Male     Asymptomatic     120.0  229.0  Below 120   \n",
       "3    37.0    Male  Nonanginal Pain     130.0  250.0  Below 120   \n",
       "4    41.0  Female  Atypical Angina     130.0  204.0  Below 120   \n",
       "..    ...     ...              ...       ...    ...        ...   \n",
       "792  54.0  Female     Asymptomatic     127.0  333.0  Above 120   \n",
       "793  62.0    Male   Typical Angina       NaN  139.0  Below 120   \n",
       "794  55.0    Male     Asymptomatic     122.0  223.0  Above 120   \n",
       "795  58.0    Male     Asymptomatic       NaN  385.0  Above 120   \n",
       "796  62.0    Male  Atypical Angina     120.0  254.0  Below 120   \n",
       "\n",
       "              restecg  thalach                    exang  oldpeak slope  \\\n",
       "0      LV Hypertrophy    150.0   Exercise Angina Absent      2.3  Down   \n",
       "1      LV Hypertrophy    108.0  Exercise Angina Present      1.5  Flat   \n",
       "2      LV Hypertrophy    129.0  Exercise Angina Present      2.6  Flat   \n",
       "3              Normal    187.0   Exercise Angina Absent      3.5  Down   \n",
       "4      LV Hypertrophy    172.0   Exercise Angina Absent      1.4    Up   \n",
       "..                ...      ...                      ...      ...   ...   \n",
       "792  ST-T Abnormality    154.0   Exercise Angina Absent      0.0   NaN   \n",
       "793  ST-T Abnormality      NaN                      NaN      NaN   NaN   \n",
       "794  ST-T Abnormality    100.0   Exercise Angina Absent      0.0   NaN   \n",
       "795    LV Hypertrophy      NaN                      NaN      NaN   NaN   \n",
       "796    LV Hypertrophy     93.0  Exercise Angina Present      0.0   NaN   \n",
       "\n",
       "              ca               thal  num    location  \n",
       "0    0 Vessel(s)       Fixed Defect    0   Cleveland  \n",
       "1    3 Vessel(s)             Normal    1   Cleveland  \n",
       "2    2 Vessel(s)  Reversable Defect    1   Cleveland  \n",
       "3    0 Vessel(s)             Normal    0   Cleveland  \n",
       "4    0 Vessel(s)             Normal    0   Cleveland  \n",
       "..           ...                ...  ...         ...  \n",
       "792          NaN                NaN    1  Long Beach  \n",
       "793          NaN                NaN    0  Long Beach  \n",
       "794          NaN       Fixed Defect    1  Long Beach  \n",
       "795          NaN                NaN    0  Long Beach  \n",
       "796          NaN                NaN    1  Long Beach  \n",
       "\n",
       "[797 rows x 15 columns]"
      ]
     },
     "metadata": {},
     "output_type": "display_data"
    }
   ],
   "source": [
    "# reading in the heart disease dataset\n",
    "df = pd.read_csv('../data/heart_disease_dataset.csv')\n",
    "\n",
    "display(df)"
   ]
  },
  {
   "cell_type": "markdown",
   "id": "0e647b51-20f8-430f-af5d-8b6e7d114177",
   "metadata": {},
   "source": [
    "## Statistics"
   ]
  },
  {
   "cell_type": "code",
   "execution_count": 4,
   "id": "c6c4c18a-deee-477c-b816-5c8baaf44d76",
   "metadata": {},
   "outputs": [
    {
     "name": "stdout",
     "output_type": "stream",
     "text": [
      "Baseline Accuracy: 50.56%\n"
     ]
    }
   ],
   "source": [
    "# initializing the feature matrix and target vector\n",
    "X = df.drop(['num'], axis=1)\n",
    "y = df['num']\n",
    "\n",
    "# initializing the class ratios of the target variable\n",
    "target_ratios = y.value_counts(normalize=True)\n",
    "\n",
    "# printing the baseline accuracy of the dataset\n",
    "baseline_accuracy = target_ratios.max()\n",
    "print(f'Baseline Accuracy: {baseline_accuracy:.2%}')"
   ]
  },
  {
   "cell_type": "markdown",
   "id": "9b5944c8-93a6-4b7c-b211-99160afd2cbb",
   "metadata": {},
   "source": [
    "## Functions"
   ]
  },
  {
   "cell_type": "code",
   "execution_count": 5,
   "id": "b2275c6d-ed64-4dea-b4a5-5a51cc29a117",
   "metadata": {},
   "outputs": [],
   "source": [
    "# defining the MLpipe_GroupKFold_accuracy function\n",
    "def MLpipe_GroupKFold_AS(X, y, groups, preprocessor, ML_algo, param_grid, trials):\n",
    "    # initializing the results dictionary\n",
    "    results = collections.defaultdict(list)\n",
    "\n",
    "    # iterating through the trials\n",
    "    for i in range(trials):\n",
    "        # splitting the dataset into a test set and other set\n",
    "        gss = GroupShuffleSplit(n_splits=1, test_size=0.2, random_state=(42 * i))\n",
    "        other_index, test_index = next(gss.split(X, y, groups=groups))\n",
    "\n",
    "        X_other, y_other, groups_other = X.iloc[other_index], y.iloc[other_index], groups.iloc[other_index]\n",
    "        X_test, y_test, groups_test = X.iloc[test_index], y.iloc[test_index], groups.iloc[test_index]\n",
    "\n",
    "        # initializing GroupKFold as the splitting method\n",
    "        gkf = GroupKFold(n_splits=2)\n",
    "\n",
    "        # initializing the pipeline with the preprocessor and machine learning algorithm\n",
    "        pipe = make_pipeline(preprocessor, ML_algo)\n",
    "        \n",
    "        # initializing and fitting GridSearchCV\n",
    "        grid = GridSearchCV(pipe, param_grid=param_grid, cv=gkf, scoring='accuracy')\n",
    "        grid.fit(X_other, y_other, groups=groups_other)\n",
    "\n",
    "        # calculating the test accuracy score\n",
    "        y_pred = grid.predict(X_test)\n",
    "        \n",
    "        test_score = accuracy_score(y_test, y_pred)\n",
    "        \n",
    "        # saving the output in the results dictionary\n",
    "        results['val scores'].append(grid.best_score_)\n",
    "        results['test scores'].append(test_score)\n",
    "        results['best models'].append(grid.best_estimator_)\n",
    "        results['test sets'].append([X_test, y_test])\n",
    "\n",
    "    # returning the results\n",
    "    return results"
   ]
  },
  {
   "cell_type": "code",
   "execution_count": 6,
   "id": "1adcfd8c-398f-4018-8256-104bced8a86d",
   "metadata": {},
   "outputs": [],
   "source": [
    "# defining the MLpipe_GroupKFold_F1 function\n",
    "def MLpipe_GroupKFold_F1(X, y, groups, preprocessor, ML_algo, param_grid, trials):\n",
    "    # initializing the results dictionary\n",
    "    results = collections.defaultdict(list)\n",
    "\n",
    "    # iterating through the trials\n",
    "    for i in range(trials):\n",
    "        # splitting the dataset into a test set and other set\n",
    "        gss = GroupShuffleSplit(n_splits=1, test_size=0.2, random_state=(42 * i))\n",
    "        other_index, test_index = next(gss.split(X, y, groups=groups))\n",
    "\n",
    "        X_other, y_other, groups_other = X.iloc[other_index], y.iloc[other_index], groups.iloc[other_index]\n",
    "        X_test, y_test, groups_test = X.iloc[test_index], y.iloc[test_index], groups.iloc[test_index]\n",
    "\n",
    "        # initializing GroupKFold as the splitting method\n",
    "        gkf = GroupKFold(n_splits=2)\n",
    "\n",
    "        # initializing the pipeline with the preprocessor and machine learning algorithm\n",
    "        pipe = make_pipeline(preprocessor, ML_algo)\n",
    "\n",
    "        # initializing and fitting GridSearchCV\n",
    "        grid = GridSearchCV(pipe, param_grid=param_grid, cv=gkf, scoring=make_scorer(f1_score))\n",
    "        grid.fit(X_other, y_other, groups=groups_other)\n",
    "\n",
    "        # calculating the test f1 score\n",
    "        y_pred = grid.predict(X_test)\n",
    "        \n",
    "        test_score = f1_score(y_test, y_pred)\n",
    "        \n",
    "        # saving the output in the results dictionary\n",
    "        results['val scores'].append(grid.best_score_)\n",
    "        results['test scores'].append(test_score)\n",
    "        results['best models'].append(grid.best_estimator_)\n",
    "        results['test sets'].append([X_test, y_test])\n",
    "\n",
    "    # returning the results\n",
    "    return results"
   ]
  },
  {
   "cell_type": "code",
   "execution_count": 7,
   "id": "28398444-889b-4db6-b70e-1eb610f651c2",
   "metadata": {},
   "outputs": [],
   "source": [
    "# defining the plot_performance function\n",
    "def plot_performance(model_means, model_stds, baseline_score, scorer):\n",
    "    # initializing the scorer names\n",
    "    scorer_names = {'a': 'Accuracy', 'f': 'F1'}\n",
    "\n",
    "    # plotting the mean and standard deviation of all models\n",
    "    plt.errorbar(['LR','RF','KNN','SVM','XGB'], model_means, model_stds, linestyle='None', marker='o')\n",
    "    plt.axhline(y=baseline_score, label='Baseline Accuracy', color='r', linestyle='-')\n",
    "\n",
    "    plt.title('ML Model Performance & Uncertainty', pad=15)\n",
    "\n",
    "    plt.xlabel('Machine Learning Model', labelpad=10)\n",
    "    plt.ylabel(f'{scorer_names[scorer]} Score', labelpad=10)\n",
    "\n",
    "    ax = plt.gca()\n",
    "    ax.set_ylim([0.4, 1])\n",
    "\n",
    "    plt.savefig(f'../figures/model_figures/performance_{scorer}.png', bbox_inches='tight')\n",
    "\n",
    "    plt.legend(bbox_to_anchor=(1.04, 1), loc='upper left')\n",
    "\n",
    "    plt.show()"
   ]
  },
  {
   "cell_type": "markdown",
   "id": "256cf5e5-aab5-4b8d-aded-5421e87d1575",
   "metadata": {},
   "source": [
    "## ML Models"
   ]
  },
  {
   "cell_type": "code",
   "execution_count": 8,
   "id": "e3082bf7-50ff-43b1-b6f2-05421ec7025c",
   "metadata": {},
   "outputs": [],
   "source": [
    "# initializing the random state\n",
    "random_state = 0\n",
    "\n",
    "# initializing the number of trials\n",
    "trials = 20\n",
    "\n",
    "# initializing the groups\n",
    "groups = df['location']"
   ]
  },
  {
   "cell_type": "code",
   "execution_count": 9,
   "id": "b1d8d90c-b2f8-4c41-a514-6b51d773d78c",
   "metadata": {},
   "outputs": [],
   "source": [
    "# initializing the categorical features and numerical features\n",
    "cat_ftrs = ['sex', 'cp', 'fbs', 'restecg', 'exang', 'slope', 'ca', 'thal', 'location']\n",
    "num_ftrs = ['age', 'trestbps', 'chol', 'thalach', 'oldpeak']"
   ]
  },
  {
   "cell_type": "markdown",
   "id": "6db8588a-918f-46b1-8311-15913d82ce9b",
   "metadata": {},
   "source": [
    "### Logistic Regression"
   ]
  },
  {
   "cell_type": "code",
   "execution_count": 10,
   "id": "6bfc9ffc-7222-4859-be61-76e6745a64c0",
   "metadata": {},
   "outputs": [],
   "source": [
    "# initializing categorical feature transformer\n",
    "cat_transformer = Pipeline(steps=[\n",
    "    ('onehot', OneHotEncoder(sparse_output=False, handle_unknown='ignore')),\n",
    "    ('scaler1', StandardScaler())\n",
    "])\n",
    "\n",
    "# initializing numeric feature transformer\n",
    "num_transformer = Pipeline(steps=[\n",
    "    ('imputer', IterativeImputer(estimator=LinearRegression(), random_state=0)),\n",
    "    ('scaler2', StandardScaler())\n",
    "])\n",
    "\n",
    "# initializing the heart disease dataset preprocessor\n",
    "preprocessor = ColumnTransformer(transformers=[\n",
    "    ('cat', cat_transformer, cat_ftrs),\n",
    "    ('num', num_transformer, num_ftrs)\n",
    "])"
   ]
  },
  {
   "cell_type": "code",
   "execution_count": 11,
   "id": "778ac3ba-5ed5-470b-be48-96b8b39c7030",
   "metadata": {},
   "outputs": [],
   "source": [
    "# initializing the machine learning algorithm\n",
    "ML_algo = LogisticRegression(random_state=random_state)\n",
    "\n",
    "# initializing the parameter grid for the algorithm\n",
    "param_grid = {\n",
    "    'logisticregression__penalty': ['l1', 'l2'],\n",
    "    'logisticregression__C': 1 / np.logspace(-2, 2, 21),\n",
    "    'logisticregression__max_iter': [10000],\n",
    "    'logisticregression__multi_class': ['auto'],\n",
    "    'logisticregression__solver': ['saga']\n",
    "}\n",
    "\n",
    "# calling the machine learning pipeline functions\n",
    "lr_results_a = MLpipe_GroupKFold_AS(X, y, groups, preprocessor, ML_algo, param_grid, trials)\n",
    "lr_results_f = MLpipe_GroupKFold_F1(X, y, groups, preprocessor, ML_algo, param_grid, trials)\n",
    "\n",
    "# saving the logistic regression results\n",
    "with open('../results/logistic_regression/logistic_regression_a.pkl', 'wb') as f:\n",
    "    pickle.dump(lr_results_a, f)\n",
    "\n",
    "with open('../results/logistic_regression/logistic_regression_f.pkl', 'wb') as f:\n",
    "    pickle.dump(lr_results_f, f)"
   ]
  },
  {
   "cell_type": "markdown",
   "id": "6b5beedc-9bb3-4abe-b480-793d321dc3c9",
   "metadata": {},
   "source": [
    "#### Accuracy Score"
   ]
  },
  {
   "cell_type": "code",
   "execution_count": 12,
   "id": "d8b238dc-c83f-4afb-95f0-897a41e30acc",
   "metadata": {},
   "outputs": [
    {
     "name": "stdout",
     "output_type": "stream",
     "text": [
      "Validation Scores Mean: 0.8\n",
      "Validation Scores Standard Deviation: 0.024\n"
     ]
    }
   ],
   "source": [
    "# initializing the mean and standard deviation of the val scores\n",
    "lr_vmean_a = np.mean(lr_results_a['val scores'])\n",
    "lr_vstd_a = np.std(lr_results_a['val scores'])\n",
    "\n",
    "# printing the mean and standard deviation of the val scores\n",
    "print(f'Validation Scores Mean: {lr_vmean_a:.2}')\n",
    "print(f'Validation Scores Standard Deviation: {lr_vstd_a:.2}')"
   ]
  },
  {
   "cell_type": "code",
   "execution_count": 13,
   "id": "f0b534de-e4fb-46e6-994c-47501933f056",
   "metadata": {},
   "outputs": [
    {
     "name": "stdout",
     "output_type": "stream",
     "text": [
      "Test Scores Mean: 0.72\n",
      "Test Scores Standard Deviation: 0.097\n"
     ]
    }
   ],
   "source": [
    "# initializing the mean and standard deviation of the test scores\n",
    "lr_tmean_a = np.mean(lr_results_a['test scores'])\n",
    "lr_tstd_a = np.std(lr_results_a['test scores'])\n",
    "\n",
    "# printing the mean and standard deviation of the test scores\n",
    "print(f'Test Scores Mean: {lr_tmean_a:.2}')\n",
    "print(f'Test Scores Standard Deviation: {lr_tstd_a:.2}')"
   ]
  },
  {
   "cell_type": "code",
   "execution_count": 14,
   "id": "33da686c-d387-4f6b-8199-852e39c10630",
   "metadata": {},
   "outputs": [
    {
     "name": "stdout",
     "output_type": "stream",
     "text": [
      "Standard Deviations Above Baseline: 2.2\n"
     ]
    }
   ],
   "source": [
    "# printing the standard deviations above the baseline\n",
    "std_above_base = (lr_tmean_a - baseline_accuracy) / lr_tstd_a\n",
    "\n",
    "print(f'Standard Deviations Above Baseline: {std_above_base:.2}')"
   ]
  },
  {
   "cell_type": "markdown",
   "id": "5ad94e0f-52ad-4048-a5b1-273131e31288",
   "metadata": {},
   "source": [
    "#### F1 Score"
   ]
  },
  {
   "cell_type": "code",
   "execution_count": 15,
   "id": "b00dea28-6108-47fb-aa57-f7035a822126",
   "metadata": {},
   "outputs": [
    {
     "name": "stdout",
     "output_type": "stream",
     "text": [
      "Validation Scores Mean: 0.79\n",
      "Validation Scores Standard Deviation: 0.021\n"
     ]
    }
   ],
   "source": [
    "# initializing the mean and standard deviation of the val scores\n",
    "lr_vmean_f = np.mean(lr_results_f['val scores'])\n",
    "lr_vstd_f = np.std(lr_results_f['val scores'])\n",
    "\n",
    "# printing the mean and standard deviation of the val scores\n",
    "print(f'Validation Scores Mean: {lr_vmean_f:.2}')\n",
    "print(f'Validation Scores Standard Deviation: {lr_vstd_f:.2}')"
   ]
  },
  {
   "cell_type": "code",
   "execution_count": 16,
   "id": "ad6322b2-be63-428a-9ab8-392410268f41",
   "metadata": {},
   "outputs": [
    {
     "name": "stdout",
     "output_type": "stream",
     "text": [
      "Test Scores Mean: 0.73\n",
      "Test Scores Standard Deviation: 0.046\n"
     ]
    }
   ],
   "source": [
    "# initializing the mean and standard deviation of the test scores\n",
    "lr_tmean_f = np.mean(lr_results_f['test scores'])\n",
    "lr_tstd_f = np.std(lr_results_f['test scores'])\n",
    "\n",
    "# printing the mean and standard deviation of the test scores\n",
    "print(f'Test Scores Mean: {lr_tmean_f:.2}')\n",
    "print(f'Test Scores Standard Deviation: {lr_tstd_f:.2}')"
   ]
  },
  {
   "cell_type": "code",
   "execution_count": 17,
   "id": "303ca4ac-954c-4570-803c-bd75461c3c9d",
   "metadata": {},
   "outputs": [
    {
     "name": "stdout",
     "output_type": "stream",
     "text": [
      "Standard Deviations Above Baseline: 4.8\n"
     ]
    }
   ],
   "source": [
    "# printing the standard deviations above the baseline\n",
    "std_above_base = (lr_tmean_f - baseline_accuracy) / lr_tstd_f\n",
    "\n",
    "print(f'Standard Deviations Above Baseline: {std_above_base:.2}')"
   ]
  },
  {
   "cell_type": "markdown",
   "id": "9597a771-8449-4acc-8d25-ad09029657a0",
   "metadata": {},
   "source": [
    "### Random Forest"
   ]
  },
  {
   "cell_type": "code",
   "execution_count": 18,
   "id": "df3d97e5-2a09-4ee5-a9bb-6855734d85e4",
   "metadata": {},
   "outputs": [],
   "source": [
    "# initializing categorical feature transformer\n",
    "cat_transformer = Pipeline(steps=[\n",
    "    ('onehot', OneHotEncoder(sparse_output=False, handle_unknown='ignore'))\n",
    "])\n",
    "\n",
    "# initializing numeric feature transformer\n",
    "num_transformer = Pipeline(steps=[\n",
    "    ('imputer', IterativeImputer(estimator=LinearRegression(), random_state=0)),\n",
    "    ('scaler', StandardScaler())\n",
    "])\n",
    "\n",
    "# initializing the heart disease dataset preprocessor\n",
    "preprocessor = ColumnTransformer(transformers=[\n",
    "    ('cat', cat_transformer, cat_ftrs),\n",
    "    ('num', num_transformer, num_ftrs)\n",
    "])"
   ]
  },
  {
   "cell_type": "code",
   "execution_count": 19,
   "id": "5260d08a-7caa-458d-a296-08afb3d82898",
   "metadata": {},
   "outputs": [],
   "source": [
    "# initializing the machine learning algorithm\n",
    "ML_algo = RandomForestClassifier(random_state=random_state)\n",
    "\n",
    "# initializing the parameter grid for the algorithm\n",
    "param_grid = {\n",
    "    'randomforestclassifier__max_depth': [1, 3, 10, 30, 100],\n",
    "    'randomforestclassifier__max_features': [0.25, 0.5, 0.75, 1.0]\n",
    "}\n",
    "\n",
    "# calling the machine learning pipeline functions\n",
    "rf_results_a = MLpipe_GroupKFold_AS(X, y, groups, preprocessor, ML_algo, param_grid, trials)\n",
    "rf_results_f = MLpipe_GroupKFold_F1(X, y, groups, preprocessor, ML_algo, param_grid, trials)\n",
    "\n",
    "# saving the random forest results\n",
    "with open('../results/random_forest/random_forest_a.pkl', 'wb') as f:\n",
    "    pickle.dump(rf_results_a, f)\n",
    "\n",
    "with open('../results/random_forest/random_forest_f.pkl', 'wb') as f:\n",
    "    pickle.dump(rf_results_f, f)"
   ]
  },
  {
   "cell_type": "markdown",
   "id": "08559dc7-1221-4d98-8e1b-ffdc716b265e",
   "metadata": {},
   "source": [
    "#### Accuracy Score"
   ]
  },
  {
   "cell_type": "code",
   "execution_count": 20,
   "id": "9c2c1af3-925e-4636-931e-8f3941f3d67d",
   "metadata": {},
   "outputs": [
    {
     "name": "stdout",
     "output_type": "stream",
     "text": [
      "Validation Scores Mean: 0.76\n",
      "Validation Scores Standard Deviation: 0.053\n"
     ]
    }
   ],
   "source": [
    "# initializing the mean and standard deviation of the test scores\n",
    "rf_vmean_a = np.mean(rf_results_a['val scores'])\n",
    "rf_vstd_a = np.std(rf_results_a['val scores'])\n",
    "\n",
    "# printing the mean and standard deviation of the val scores\n",
    "print(f'Validation Scores Mean: {rf_vmean_a:.2}')\n",
    "print(f'Validation Scores Standard Deviation: {rf_vstd_a:.2}')"
   ]
  },
  {
   "cell_type": "code",
   "execution_count": 21,
   "id": "b72e2f47-45cf-429f-aaef-0a06aff3c9b0",
   "metadata": {},
   "outputs": [
    {
     "name": "stdout",
     "output_type": "stream",
     "text": [
      "Test Scores Mean: 0.75\n",
      "Test Scores Standard Deviation: 0.07\n"
     ]
    }
   ],
   "source": [
    "# initializing the mean and standard deviation of the test scores\n",
    "rf_tmean_a = np.mean(rf_results_a['test scores'])\n",
    "rf_tstd_a = np.std(rf_results_a['test scores'])\n",
    "\n",
    "# printing the mean and standard deviation of the test scores\n",
    "print(f'Test Scores Mean: {rf_tmean_a:.2}')\n",
    "print(f'Test Scores Standard Deviation: {rf_tstd_a:.2}')"
   ]
  },
  {
   "cell_type": "code",
   "execution_count": 22,
   "id": "48d82a66-72d3-442f-865a-e835321a7220",
   "metadata": {},
   "outputs": [
    {
     "name": "stdout",
     "output_type": "stream",
     "text": [
      "Standard Deviations Above Baseline: 3.5\n"
     ]
    }
   ],
   "source": [
    "# printing the standard deviations above the baseline\n",
    "std_above_base = (rf_tmean_a - baseline_accuracy) / rf_tstd_a\n",
    "\n",
    "print(f'Standard Deviations Above Baseline: {std_above_base:.2}')"
   ]
  },
  {
   "cell_type": "markdown",
   "id": "5619fd43-79c3-4c12-8017-df881376a633",
   "metadata": {},
   "source": [
    "#### F1 Score"
   ]
  },
  {
   "cell_type": "code",
   "execution_count": 23,
   "id": "9d7dae43-37cd-43a5-8e10-fa8615143238",
   "metadata": {},
   "outputs": [
    {
     "name": "stdout",
     "output_type": "stream",
     "text": [
      "Validation Scores Mean: 0.77\n",
      "Validation Scores Standard Deviation: 0.014\n"
     ]
    }
   ],
   "source": [
    "# initializing the mean and standard deviation of the test scores\n",
    "rf_vmean_f = np.mean(rf_results_f['val scores'])\n",
    "rf_vstd_f = np.std(rf_results_f['val scores'])\n",
    "\n",
    "# printing the mean and standard deviation of the val scores\n",
    "print(f'Validation Scores Mean: {rf_vmean_f:.2}')\n",
    "print(f'Validation Scores Standard Deviation: {rf_vstd_f:.2}')"
   ]
  },
  {
   "cell_type": "code",
   "execution_count": 24,
   "id": "e861966a-721b-427b-bbe1-9aea29166449",
   "metadata": {},
   "outputs": [
    {
     "name": "stdout",
     "output_type": "stream",
     "text": [
      "Test Scores Mean: 0.77\n",
      "Test Scores Standard Deviation: 0.015\n"
     ]
    }
   ],
   "source": [
    "# initializing the mean and standard deviation of the test scores\n",
    "rf_tmean_f = np.mean(rf_results_f['test scores'])\n",
    "rf_tstd_f = np.std(rf_results_f['test scores'])\n",
    "\n",
    "# printing the mean and standard deviation of the test scores\n",
    "print(f'Test Scores Mean: {rf_tmean_f:.2}')\n",
    "print(f'Test Scores Standard Deviation: {rf_tstd_f:.2}')"
   ]
  },
  {
   "cell_type": "code",
   "execution_count": 25,
   "id": "78711d2a-d1b9-43c7-8ec8-cd0bf57f5626",
   "metadata": {},
   "outputs": [
    {
     "name": "stdout",
     "output_type": "stream",
     "text": [
      "Standard Deviations Above Baseline: 1.7e+01\n"
     ]
    }
   ],
   "source": [
    "# printing the standard deviations above the baseline\n",
    "std_above_base = (rf_tmean_f - baseline_accuracy) / rf_tstd_f\n",
    "\n",
    "print(f'Standard Deviations Above Baseline: {std_above_base:.2}')"
   ]
  },
  {
   "cell_type": "markdown",
   "id": "727c7351-b812-4d53-b8ff-b25a0ea6ece3",
   "metadata": {},
   "source": [
    "### KNN"
   ]
  },
  {
   "cell_type": "code",
   "execution_count": 26,
   "id": "7073f12b-02bd-48a2-98e4-ed27c78b6bc7",
   "metadata": {},
   "outputs": [],
   "source": [
    "# initializing categorical feature transformer\n",
    "cat_transformer = Pipeline(steps=[\n",
    "    ('onehot', OneHotEncoder(sparse_output=False, handle_unknown='ignore'))\n",
    "])\n",
    "\n",
    "# initializing numeric feature transformer\n",
    "num_transformer = Pipeline(steps=[\n",
    "    ('imputer', IterativeImputer(estimator=LinearRegression(), random_state=0)),\n",
    "    ('scaler', StandardScaler())\n",
    "])\n",
    "\n",
    "# initializing the heart disease dataset preprocessor\n",
    "preprocessor = ColumnTransformer(transformers=[\n",
    "    ('cat', cat_transformer, cat_ftrs),\n",
    "    ('num', num_transformer, num_ftrs)\n",
    "])"
   ]
  },
  {
   "cell_type": "code",
   "execution_count": 27,
   "id": "1ccbf246-ca62-4e19-9907-92da0fb4947b",
   "metadata": {},
   "outputs": [],
   "source": [
    "# initializing the machine learning algorithm\n",
    "ML_algo = KNeighborsClassifier()\n",
    "\n",
    "# initializing the parameter grid for the algorithm\n",
    "param_grid = {\n",
    "    'kneighborsclassifier__n_neighbors': np.arange(1, 100, 10),\n",
    "    'kneighborsclassifier__weights': ['uniform', 'distance']\n",
    "}\n",
    "\n",
    "# calling the machine learning pipeline functions\n",
    "knc_results_a = MLpipe_GroupKFold_AS(X, y, groups, preprocessor, ML_algo, param_grid, trials)\n",
    "knc_results_f = MLpipe_GroupKFold_F1(X, y, groups, preprocessor, ML_algo, param_grid, trials)\n",
    "\n",
    "# saving the n nearest neighbors results\n",
    "with open('../results/k_nearest_neighbors/k_nearest_neighbors_a.pkl', 'wb') as f:\n",
    "    pickle.dump(knc_results_a, f)\n",
    "\n",
    "with open('../results/k_nearest_neighbors/k_nearest_neighbors_f.pkl', 'wb') as f:\n",
    "    pickle.dump(knc_results_f, f)"
   ]
  },
  {
   "cell_type": "markdown",
   "id": "d865229e-8d29-4a0e-8cdd-18e6a4829a09",
   "metadata": {},
   "source": [
    "#### Accuracy Score"
   ]
  },
  {
   "cell_type": "code",
   "execution_count": 28,
   "id": "93302ac4-10b9-495c-b184-e9d6b3aae325",
   "metadata": {},
   "outputs": [
    {
     "name": "stdout",
     "output_type": "stream",
     "text": [
      "Validation Scores Mean: 0.73\n",
      "Validation Scores Standard Deviation: 0.077\n"
     ]
    }
   ],
   "source": [
    "# initializing the mean and standard deviation of the test scores\n",
    "knc_vmean_a = np.mean(knc_results_a['val scores'])\n",
    "knc_vstd_a = np.std(knc_results_a['val scores'])\n",
    "\n",
    "# printing the mean and standard deviation of the val scores\n",
    "print(f'Validation Scores Mean: {knc_vmean_a:.2}')\n",
    "print(f'Validation Scores Standard Deviation: {knc_vstd_a:.2}')"
   ]
  },
  {
   "cell_type": "code",
   "execution_count": 29,
   "id": "83e69cb1-a167-4fcc-b7b0-2225142907cf",
   "metadata": {},
   "outputs": [
    {
     "name": "stdout",
     "output_type": "stream",
     "text": [
      "Test Scores Mean: 0.7\n",
      "Test Scores Standard Deviation: 0.036\n"
     ]
    }
   ],
   "source": [
    "# initializing the mean and standard deviation of the test scores\n",
    "knc_tmean_a = np.mean(knc_results_a['test scores'])\n",
    "knc_tstd_a = np.std(knc_results_a['test scores'])\n",
    "\n",
    "# printing the mean and standard deviation of the test scores\n",
    "print(f'Test Scores Mean: {knc_tmean_a:.2}')\n",
    "print(f'Test Scores Standard Deviation: {knc_tstd_a:.2}')"
   ]
  },
  {
   "cell_type": "code",
   "execution_count": 30,
   "id": "d175833f-f73c-43e1-86f0-6eb9431dc567",
   "metadata": {},
   "outputs": [
    {
     "name": "stdout",
     "output_type": "stream",
     "text": [
      "Standard Deviations Above Baseline: 5.3\n"
     ]
    }
   ],
   "source": [
    "# printing the standard deviations above the baseline\n",
    "std_above_base = (knc_tmean_a - baseline_accuracy) / knc_tstd_a\n",
    "\n",
    "print(f'Standard Deviations Above Baseline: {std_above_base:.2}')"
   ]
  },
  {
   "cell_type": "markdown",
   "id": "0d1c5c35-b391-4cfc-9963-8b998d0b754f",
   "metadata": {},
   "source": [
    "#### F1 Score"
   ]
  },
  {
   "cell_type": "code",
   "execution_count": 31,
   "id": "63c2fc2a-7db0-439e-942a-3690e22590e8",
   "metadata": {},
   "outputs": [
    {
     "name": "stdout",
     "output_type": "stream",
     "text": [
      "Validation Scores Mean: 0.75\n",
      "Validation Scores Standard Deviation: 0.011\n"
     ]
    }
   ],
   "source": [
    "# initializing the mean and standard deviation of the test scores\n",
    "knc_vmean_f = np.mean(knc_results_f['val scores'])\n",
    "knc_vstd_f = np.std(knc_results_f['val scores'])\n",
    "\n",
    "# printing the mean and standard deviation of the val scores\n",
    "print(f'Validation Scores Mean: {knc_vmean_f:.2}')\n",
    "print(f'Validation Scores Standard Deviation: {knc_vstd_f:.2}')"
   ]
  },
  {
   "cell_type": "code",
   "execution_count": 32,
   "id": "f2e4e342-3343-4de6-9d35-7b4650310e4d",
   "metadata": {},
   "outputs": [
    {
     "name": "stdout",
     "output_type": "stream",
     "text": [
      "Test Scores Mean: 0.74\n",
      "Test Scores Standard Deviation: 0.039\n"
     ]
    }
   ],
   "source": [
    "# initializing the mean and standard deviation of the test scores\n",
    "knc_tmean_f = np.mean(knc_results_f['test scores'])\n",
    "knc_tstd_f = np.std(knc_results_f['test scores'])\n",
    "\n",
    "# printing the mean and standard deviation of the test scores\n",
    "print(f'Test Scores Mean: {knc_tmean_f:.2}')\n",
    "print(f'Test Scores Standard Deviation: {knc_tstd_f:.2}')"
   ]
  },
  {
   "cell_type": "code",
   "execution_count": 33,
   "id": "f9810e6e-e26d-44f6-aef3-7fba3a614a2f",
   "metadata": {},
   "outputs": [
    {
     "name": "stdout",
     "output_type": "stream",
     "text": [
      "Standard Deviations Above Baseline: 6.0\n"
     ]
    }
   ],
   "source": [
    "# printing the standard deviations above the baseline\n",
    "std_above_base = (knc_tmean_f - baseline_accuracy) / knc_tstd_f\n",
    "\n",
    "print(f'Standard Deviations Above Baseline: {std_above_base:.2}')"
   ]
  },
  {
   "cell_type": "markdown",
   "id": "d42bfdd6-4a70-4bc7-bf2f-60026f466011",
   "metadata": {},
   "source": [
    "### SVM"
   ]
  },
  {
   "cell_type": "code",
   "execution_count": 34,
   "id": "859d3163-023d-4863-935f-0e2f5743aed3",
   "metadata": {},
   "outputs": [],
   "source": [
    "# initializing categorical feature transformer\n",
    "cat_transformer = Pipeline(steps=[\n",
    "    ('onehot', OneHotEncoder(sparse_output=False, handle_unknown='ignore')),\n",
    "    ('scaler1', StandardScaler())\n",
    "])\n",
    "\n",
    "# initializing numeric feature transformer\n",
    "num_transformer = Pipeline(steps=[\n",
    "    ('imputer', IterativeImputer(estimator=LinearRegression(), random_state=0)),\n",
    "    ('scaler2', StandardScaler())\n",
    "])\n",
    "\n",
    "# initializing the heart disease dataset preprocessor\n",
    "preprocessor = ColumnTransformer(transformers=[\n",
    "    ('cat', cat_transformer, cat_ftrs),\n",
    "    ('num', num_transformer, num_ftrs)\n",
    "])"
   ]
  },
  {
   "cell_type": "code",
   "execution_count": 35,
   "id": "c74f67fb-b05d-45ab-9ed3-4afa2f311465",
   "metadata": {},
   "outputs": [],
   "source": [
    "# initializing the machine learning algorithm\n",
    "ML_algo = SVC(kernel='linear', probability=True, random_state=random_state)\n",
    "\n",
    "# initializing the parameter grid for the algorithm\n",
    "param_grid = {\n",
    "    'svc__C': np.logspace(-1, 1, 10),\n",
    "    'svc__gamma': list(np.logspace(-1, 1, 10)) + ['scale']\n",
    "}\n",
    "\n",
    "# calling the machine learning pipeline functions\n",
    "svc_results_a = MLpipe_GroupKFold_AS(X, y, groups, preprocessor, ML_algo, param_grid, trials)\n",
    "svc_results_f = MLpipe_GroupKFold_F1(X, y, groups, preprocessor, ML_algo, param_grid, trials)\n",
    "\n",
    "# saving the support vector machine results\n",
    "with open('../results/support_vector_machine/support_vector_machine_a.pkl', 'wb') as f:\n",
    "    pickle.dump(svc_results_a, f)\n",
    "\n",
    "with open('../results/support_vector_machine/support_vector_machine_f.pkl', 'wb') as f:\n",
    "    pickle.dump(svc_results_f, f)"
   ]
  },
  {
   "cell_type": "markdown",
   "id": "c7a2f70d-1a0e-408f-bbf1-b0b4e1625b9f",
   "metadata": {},
   "source": [
    "#### Accuracy Score"
   ]
  },
  {
   "cell_type": "code",
   "execution_count": 36,
   "id": "037b30b4-1978-4211-b244-d433ba67cbd9",
   "metadata": {},
   "outputs": [
    {
     "name": "stdout",
     "output_type": "stream",
     "text": [
      "Validation Scores Mean: 0.74\n",
      "Validation Scores Standard Deviation: 0.068\n"
     ]
    }
   ],
   "source": [
    "# initializing the mean and standard deviation of the test scores\n",
    "svc_vmean_a = np.mean(svc_results_a['val scores'])\n",
    "svc_vstd_a = np.std(svc_results_a['val scores'])\n",
    "\n",
    "# printing the mean and standard deviation of the val scores\n",
    "print(f'Validation Scores Mean: {svc_vmean_a:.2}')\n",
    "print(f'Validation Scores Standard Deviation: {svc_vstd_a:.2}')"
   ]
  },
  {
   "cell_type": "code",
   "execution_count": 37,
   "id": "c7539efb-0e87-4be1-bdc9-d7fac3663e6f",
   "metadata": {},
   "outputs": [
    {
     "name": "stdout",
     "output_type": "stream",
     "text": [
      "Test Scores Mean: 0.76\n",
      "Test Scores Standard Deviation: 0.053\n"
     ]
    }
   ],
   "source": [
    "# initializing the mean and standard deviation of the test scores\n",
    "svc_tmean_a = np.mean(svc_results_a['test scores'])\n",
    "svc_tstd_a = np.std(svc_results_a['test scores'])\n",
    "\n",
    "# printing the mean and standard deviation of the test scores\n",
    "print(f'Test Scores Mean: {svc_tmean_a:.2}')\n",
    "print(f'Test Scores Standard Deviation: {svc_tstd_a:.2}')"
   ]
  },
  {
   "cell_type": "code",
   "execution_count": 38,
   "id": "119b36df-332e-47ff-a315-18de12fba752",
   "metadata": {},
   "outputs": [
    {
     "name": "stdout",
     "output_type": "stream",
     "text": [
      "Standard Deviations Above Baseline: 4.7\n"
     ]
    }
   ],
   "source": [
    "# printing the standard deviations above the baseline\n",
    "std_above_base = (svc_tmean_a - baseline_accuracy) / svc_tstd_a\n",
    "\n",
    "print(f'Standard Deviations Above Baseline: {std_above_base:.2}')"
   ]
  },
  {
   "cell_type": "markdown",
   "id": "ff7b7d5a-ca48-4639-9865-cbe632b15b0d",
   "metadata": {},
   "source": [
    "#### F1 Score"
   ]
  },
  {
   "cell_type": "code",
   "execution_count": 39,
   "id": "6310f7ba-2e9d-494d-baa9-ea2136192699",
   "metadata": {},
   "outputs": [
    {
     "name": "stdout",
     "output_type": "stream",
     "text": [
      "Validation Scores Mean: 0.73\n",
      "Validation Scores Standard Deviation: 0.036\n"
     ]
    }
   ],
   "source": [
    "# initializing the mean and standard deviation of the test scores\n",
    "svc_vmean_f = np.mean(svc_results_f['val scores'])\n",
    "svc_vstd_f = np.std(svc_results_f['val scores'])\n",
    "\n",
    "# printing the mean and standard deviation of the val scores\n",
    "print(f'Validation Scores Mean: {svc_vmean_f:.2}')\n",
    "print(f'Validation Scores Standard Deviation: {svc_vstd_f:.2}')"
   ]
  },
  {
   "cell_type": "code",
   "execution_count": 40,
   "id": "5dee507c-0107-44f7-b3b6-fc2fb9d36e73",
   "metadata": {},
   "outputs": [
    {
     "name": "stdout",
     "output_type": "stream",
     "text": [
      "Test Scores Mean: 0.76\n",
      "Test Scores Standard Deviation: 0.037\n"
     ]
    }
   ],
   "source": [
    "# initializing the mean and standard deviation of the test scores\n",
    "svc_tmean_f = np.mean(svc_results_f['test scores'])\n",
    "svc_tstd_f = np.std(svc_results_f['test scores'])\n",
    "\n",
    "# printing the mean and standard deviation of the test scores\n",
    "print(f'Test Scores Mean: {svc_tmean_f:.2}')\n",
    "print(f'Test Scores Standard Deviation: {svc_tstd_f:.2}')"
   ]
  },
  {
   "cell_type": "code",
   "execution_count": 41,
   "id": "96ca8224-5f63-4eb5-8b3a-44eb13880e10",
   "metadata": {},
   "outputs": [
    {
     "name": "stdout",
     "output_type": "stream",
     "text": [
      "Standard Deviations Above Baseline: 7.0\n"
     ]
    }
   ],
   "source": [
    "# printing the standard deviations above the baseline\n",
    "std_above_base = (svc_tmean_f - baseline_accuracy) / svc_tstd_f\n",
    "\n",
    "print(f'Standard Deviations Above Baseline: {std_above_base:.2}')"
   ]
  },
  {
   "cell_type": "markdown",
   "id": "bb6cddce-4a96-48da-acd7-2057e7b82cf5",
   "metadata": {},
   "source": [
    "### XGBoost"
   ]
  },
  {
   "cell_type": "code",
   "execution_count": 42,
   "id": "a24f158c-e491-4a92-816d-bbd829fe9966",
   "metadata": {},
   "outputs": [],
   "source": [
    "# initializing categorical feature transformer\n",
    "cat_transformer = Pipeline(steps=[\n",
    "    ('onehot', OneHotEncoder(sparse_output=False, handle_unknown='ignore'))\n",
    "])\n",
    "\n",
    "# initializing numeric feature transformer\n",
    "num_transformer = Pipeline(steps=[\n",
    "    ('scaler', StandardScaler())\n",
    "])\n",
    "\n",
    "# initializing the heart disease dataset preprocessor\n",
    "preprocessor = ColumnTransformer(transformers=[\n",
    "    ('cat', cat_transformer, cat_ftrs),\n",
    "    ('num', num_transformer, num_ftrs)\n",
    "])"
   ]
  },
  {
   "cell_type": "code",
   "execution_count": 43,
   "id": "cb088dff-de79-4e1e-b039-cea0ea342796",
   "metadata": {},
   "outputs": [],
   "source": [
    "# initializing the machine learning algorithm\n",
    "ML_algo = XGBClassifier(random_state=random_state)\n",
    "\n",
    "# initializing the parameter grid for the algorithm\n",
    "param_grid = {\n",
    "    'xgbclassifier__learning_rate': [0.03, 0.05, 0.08, 0.1, 0.2],\n",
    "    'xgbclassifier__n_estimators': [500],\n",
    "    'xgbclassifier__seed': [0],\n",
    "    'xgbclassifier__missing': [np.nan], \n",
    "    'xgbclassifier__max_depth': [1, 3, 6, 10, 30, 100],\n",
    "    'xgbclassifier__colsample_bytree': [0.9],    \n",
    "    'xgbclassifier__subsample': [0.66]\n",
    "}\n",
    "\n",
    "# calling the machine learning pipeline functions\n",
    "xgb_results_a = MLpipe_GroupKFold_AS(X, y, groups, preprocessor, ML_algo, param_grid, trials)\n",
    "xgb_results_f = MLpipe_GroupKFold_F1(X, y, groups, preprocessor, ML_algo, param_grid, trials)\n",
    "\n",
    "# saving the extreme gradient boosting results\n",
    "with open('../results/extreme_gradient_boosting/extreme_gradient_boosting_a.pkl', 'wb') as f:\n",
    "    pickle.dump(xgb_results_a, f)\n",
    "\n",
    "# saving the extreme gradient boosting results\n",
    "with open('../results/extreme_gradient_boosting/extreme_gradient_boosting_f.pkl', 'wb') as f:\n",
    "    pickle.dump(xgb_results_f, f)"
   ]
  },
  {
   "cell_type": "markdown",
   "id": "1f7015fc-679c-478c-a1b1-5aec1ad3a8e5",
   "metadata": {},
   "source": [
    "#### Accuracy Score"
   ]
  },
  {
   "cell_type": "code",
   "execution_count": 44,
   "id": "0385bd3a-8dbe-4f5c-b433-3aabb3ecdd5f",
   "metadata": {},
   "outputs": [
    {
     "name": "stdout",
     "output_type": "stream",
     "text": [
      "Validation Scores Mean: 0.74\n",
      "Validation Scores Standard Deviation: 0.017\n"
     ]
    }
   ],
   "source": [
    "# initializing the mean and standard deviation of the test scores\n",
    "xgb_vmean_a = np.mean(xgb_results_a['val scores'])\n",
    "xgb_vstd_a = np.std(xgb_results_a['val scores'])\n",
    "\n",
    "# printing the mean and standard deviation of the val scores\n",
    "print(f'Validation Scores Mean: {xgb_vmean_a:.2}')\n",
    "print(f'Validation Scores Standard Deviation: {xgb_vstd_a:.2}')"
   ]
  },
  {
   "cell_type": "code",
   "execution_count": 45,
   "id": "7a6868ce-3650-4855-a0cc-3963c1803f1a",
   "metadata": {},
   "outputs": [
    {
     "name": "stdout",
     "output_type": "stream",
     "text": [
      "Test Scores Mean: 0.71\n",
      "Test Scores Standard Deviation: 0.077\n"
     ]
    }
   ],
   "source": [
    "# initializing the mean and standard deviation of the test scores\n",
    "xgb_tmean_a = np.mean(xgb_results_a['test scores'])\n",
    "xgb_tstd_a = np.std(xgb_results_a['test scores'])\n",
    "\n",
    "# printing the mean and standard deviation of the test scores\n",
    "print(f'Test Scores Mean: {xgb_tmean_a:.2}')\n",
    "print(f'Test Scores Standard Deviation: {xgb_tstd_a:.2}')"
   ]
  },
  {
   "cell_type": "code",
   "execution_count": 46,
   "id": "05d75bce-8246-461d-9c48-f19b4cfa5a06",
   "metadata": {},
   "outputs": [
    {
     "name": "stdout",
     "output_type": "stream",
     "text": [
      "Standard Deviations Above Baseline: 2.6\n"
     ]
    }
   ],
   "source": [
    "# printing the standard deviations above the baseline\n",
    "std_above_base = (xgb_tmean_a - baseline_accuracy) / xgb_tstd_a\n",
    "\n",
    "print(f'Standard Deviations Above Baseline: {std_above_base:.2}')"
   ]
  },
  {
   "cell_type": "markdown",
   "id": "57451eed-0b1b-43c1-8d95-84e0f40b013a",
   "metadata": {},
   "source": [
    "#### F1 Score"
   ]
  },
  {
   "cell_type": "code",
   "execution_count": 47,
   "id": "945fab99-ed47-445d-b047-18ff57377ed5",
   "metadata": {},
   "outputs": [
    {
     "name": "stdout",
     "output_type": "stream",
     "text": [
      "Validation Scores Mean: 0.76\n",
      "Validation Scores Standard Deviation: 0.017\n"
     ]
    }
   ],
   "source": [
    "# initializing the mean and standard deviation of the test scores\n",
    "xgb_vmean_f = np.mean(xgb_results_f['val scores'])\n",
    "xgb_vstd_f = np.std(xgb_results_f['val scores'])\n",
    "\n",
    "# printing the mean and standard deviation of the val scores\n",
    "print(f'Validation Scores Mean: {xgb_vmean_f:.2}')\n",
    "print(f'Validation Scores Standard Deviation: {xgb_vstd_f:.2}')"
   ]
  },
  {
   "cell_type": "code",
   "execution_count": 48,
   "id": "ead041eb-3738-4d9e-b28e-c0cb004bdca6",
   "metadata": {},
   "outputs": [
    {
     "name": "stdout",
     "output_type": "stream",
     "text": [
      "Test Scores Mean: 0.73\n",
      "Test Scores Standard Deviation: 0.03\n"
     ]
    }
   ],
   "source": [
    "# initializing the mean and standard deviation of the test scores\n",
    "xgb_tmean_f = np.mean(xgb_results_f['test scores'])\n",
    "xgb_tstd_f = np.std(xgb_results_f['test scores'])\n",
    "\n",
    "# printing the mean and standard deviation of the test scores\n",
    "print(f'Test Scores Mean: {xgb_tmean_f:.2}')\n",
    "print(f'Test Scores Standard Deviation: {xgb_tstd_f:.2}')"
   ]
  },
  {
   "cell_type": "code",
   "execution_count": 49,
   "id": "50b3216f-7a13-4b44-86c3-f3599aa6156e",
   "metadata": {},
   "outputs": [
    {
     "name": "stdout",
     "output_type": "stream",
     "text": [
      "Standard Deviations Above Baseline: 7.8\n"
     ]
    }
   ],
   "source": [
    "# printing the standard deviations above the baseline\n",
    "std_above_base = (xgb_tmean_f - baseline_accuracy) / xgb_tstd_f\n",
    "\n",
    "print(f'Standard Deviations Above Baseline: {std_above_base:.2}')"
   ]
  },
  {
   "cell_type": "markdown",
   "id": "5cb94342-e013-4412-a268-ab7120f28b9b",
   "metadata": {},
   "source": [
    "### Measuring Uncertainty"
   ]
  },
  {
   "cell_type": "code",
   "execution_count": 50,
   "id": "e32cf221-573e-43cd-b527-931c27883b65",
   "metadata": {},
   "outputs": [
    {
     "data": {
      "image/png": "[encoded data removed]",
      "text/plain": [
       "<Figure size 1920x1440 with 1 Axes>"
      ]
     },
     "metadata": {},
     "output_type": "display_data"
    }
   ],
   "source": [
    "# plotting the performance and uncertainty of the machine learning algorithms\n",
    "model_means = [lr_tmean_a, rf_tmean_a, knc_tmean_a, svc_tmean_a, xgb_tmean_a]\n",
    "model_stds = [lr_tstd_a, rf_tstd_a, knc_tstd_a, svc_tstd_a, xgb_tstd_a]\n",
    "\n",
    "plot_performance(model_means, model_stds, baseline_accuracy, 'a')"
   ]
  },
  {
   "cell_type": "code",
   "execution_count": 51,
   "id": "c5b26ef5-531c-403f-9eba-2b016d3f4c84",
   "metadata": {},
   "outputs": [
    {
     "data": {
      "image/png": "[encoded data removed]",
      "text/plain": [
       "<Figure size 1920x1440 with 1 Axes>"
      ]
     },
     "metadata": {},
     "output_type": "display_data"
    }
   ],
   "source": [
    "# plotting the performance and uncertainty of the machine learning algorithms\n",
    "model_means = [lr_tmean_f, rf_tmean_f, knc_tmean_f, svc_tmean_f, xgb_tmean_f]\n",
    "model_stds = [lr_tstd_f, rf_tstd_f, knc_tstd_f, svc_tstd_f, xgb_tstd_f]\n",
    "\n",
    "plot_performance(model_means, model_stds, baseline_accuracy, 'f')"
   ]
  }
 ],
 "metadata": {
  "kernelspec": {
   "display_name": "Python 3 (ipykernel)",
   "language": "python",
   "name": "python3"
  },
  "language_info": {
   "codemirror_mode": {
    "name": "ipython",
    "version": 3
   },
   "file_extension": ".py",
   "mimetype": "text/x-python",
   "name": "python",
   "nbconvert_exporter": "python",
   "pygments_lexer": "ipython3",
   "version": "3.11.4"
  }
 },
 "nbformat": 4,
 "nbformat_minor": 5
}
